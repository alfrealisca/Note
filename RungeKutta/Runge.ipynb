{
 "cells": [
  {
   "cell_type": "code",
   "execution_count": 1,
   "metadata": {
    "collapsed": false
   },
   "outputs": [
    {
     "name": "stderr",
     "output_type": "stream",
     "text": [
      "INFO: Loading help data...\n"
     ]
    }
   ],
   "source": [
    "using PyPlot"
   ]
  },
  {
   "cell_type": "code",
   "execution_count": 2,
   "metadata": {
    "collapsed": true
   },
   "outputs": [],
   "source": [
    "using PyPlot"
   ]
  },
  {
   "cell_type": "code",
   "execution_count": 7,
   "metadata": {
    "collapsed": false
   },
   "outputs": [
    {
     "data": {
      "text/plain": [
       "f (generic function with 1 method)"
      ]
     },
     "execution_count": 7,
     "metadata": {},
     "output_type": "execute_result"
    }
   ],
   "source": [
    "f(t, x) = -2t*x^2"
   ]
  },
  {
   "cell_type": "code",
   "execution_count": 10,
   "metadata": {
    "collapsed": false
   },
   "outputs": [
    {
     "data": {
      "text/plain": [
       "runge_kutta (generic function with 1 method)"
      ]
     },
     "execution_count": 10,
     "metadata": {},
     "output_type": "execute_result"
    }
   ],
   "source": [
    "#t0 = 0\n",
    "#x0 = 1\n",
    "#h = 0.25\n",
    "#N = 10\n",
    "\n",
    "function runge_kutta(t0, x0, h, N, f)\n",
    "    t_actual = t0\n",
    "    x_actual = x0\n",
    "    \n",
    "    ts = Float64[]\n",
    "    xs = Float64[]\n",
    "    \n",
    "    for i in 1:h:N\n",
    "        k1 = f(t_actual, x_actual)\n",
    "        k2 = f(t_actual + 0.5h, x_actual + 0.5h*k1)\n",
    "        k3 = f(t_actual + 0.5h, x_actual + 0.5h*k2)\n",
    "        k4 = f(t_actual + h, x_actual + h*k3)\n",
    "\n",
    "        t_nueva = t_actual + h\n",
    "        x_nueva = x_actual + (h/6)*(k1 + 2k2 + 2k3 + k4)\n",
    "        \n",
    "        t_actual = t_nueva\n",
    "        x_actual = x_nueva\n",
    "        \n",
    "        push!(ts, t_actual)\n",
    "        push!(xs, x_actual)\n",
    "    end\n",
    "    ts, xs\n",
    "    plot(ts, xs)\n",
    "end"
   ]
  },
  {
   "cell_type": "code",
   "execution_count": 11,
   "metadata": {
    "collapsed": false
   },
   "outputs": [
    {
     "data": {
      "image/png": "[encoded data removed]",
      "text/plain": [
       "Figure(PyObject <matplotlib.figure.Figure object at 0x7f8287ad9d10>)"
      ]
     },
     "metadata": {},
     "output_type": "display_data"
    },
    {
     "data": {
      "text/plain": [
       "1-element Array{Any,1}:\n",
       " PyObject <matplotlib.lines.Line2D object at 0x7f82c3d05a90>"
      ]
     },
     "execution_count": 11,
     "metadata": {},
     "output_type": "execute_result"
    }
   ],
   "source": [
    "runge_kutta(0, 1, 0.125, 10, f)"
   ]
  },
  {
   "cell_type": "markdown",
   "metadata": {},
   "source": [
    "###Sistemas."
   ]
  },
  {
   "cell_type": "code",
   "execution_count": 12,
   "metadata": {
    "collapsed": false
   },
   "outputs": [
    {
     "data": {
      "text/plain": [
       "ejemplo2 (generic function with 1 method)"
      ]
     },
     "execution_count": 12,
     "metadata": {},
     "output_type": "execute_result"
    }
   ],
   "source": [
    "function ejemplo2(t, x0)\n",
    "    x = x0[1]\n",
    "    y = x0[2]\n",
    "    return [y, -x + (1 - x^2)*y]\n",
    "end"
   ]
  },
  {
   "cell_type": "code",
   "execution_count": 25,
   "metadata": {
    "collapsed": false
   },
   "outputs": [
    {
     "data": {
      "text/plain": [
       "runge_kutta_sistemas (generic function with 1 method)"
      ]
     },
     "execution_count": 25,
     "metadata": {},
     "output_type": "execute_result"
    }
   ],
   "source": [
    "t0 = 0\n",
    "x0 = [1, 1]\n",
    "h = 0.25\n",
    "N = 10\n",
    "\n",
    "function runge_kutta_sistemas(t0, x0, h, N, f)\n",
    "    \n",
    "    t_actual = t0\n",
    "    x_actual = x0\n",
    "    \n",
    "    ts = Float64[t_actual]\n",
    "    xs = Vector{Float64}[[x_actual]]\n",
    "    \n",
    "    for i in 1:h:N\n",
    "        \n",
    "        push!(ts, t_actual)\n",
    "        push!(xs, x_actual)\n",
    "        \n",
    "        k1 = f(t_actual, x_actual)\n",
    "        k2 = f(t_actual + 0.5h, x_actual + 0.5h*k1)\n",
    "        k3 = f(t_actual + 0.5h, x_actual + 0.5h*k2)\n",
    "        k4 = f(t_actual + h, x_actual + h*k3)\n",
    "        \n",
    "        K = (k1 + 2k2 + 2k3 + k4)/6\n",
    "        \n",
    "        t_nueva = t_actual + h\n",
    "        x_nueva = x_actual + h*K\n",
    "        \n",
    "        t_actual = t_nueva\n",
    "        x_actual = t_nueva\n",
    "\n",
    "    end\n",
    "    ts, hcat(xs...)'\n",
    "end"
   ]
  },
  {
   "cell_type": "code",
   "execution_count": 26,
   "metadata": {
    "collapsed": false
   },
   "outputs": [
    {
     "ename": "LoadError",
     "evalue": "`convert` has no method matching convert(::Type{Array{Float64,1}}, ::Float64)\nwhile loading In[26], in expression starting on line 1",
     "output_type": "error",
     "traceback": [
      "`convert` has no method matching convert(::Type{Array{Float64,1}}, ::Float64)\nwhile loading In[26], in expression starting on line 1",
      "",
      " in push! at array.jl:460",
      " in runge_kutta_sistemas at In[25]:17"
     ]
    }
   ],
   "source": [
    "runge_kutta_sistemas(t0, x0, h, N, ejemplo2)"
   ]
  },
  {
   "cell_type": "markdown",
   "metadata": {
    "collapsed": true
   },
   "source": [
    "[Lentos](http://vk.com/video-10568504_128657235)"
   ]
  },
  {
   "cell_type": "code",
   "execution_count": null,
   "metadata": {
    "collapsed": true
   },
   "outputs": [],
   "source": []
  }
 ],
 "metadata": {
  "kernelspec": {
   "display_name": "Julia 0.3.11",
   "language": "julia",
   "name": "julia-0.3"
  },
  "language_info": {
   "name": "julia",
   "version": "0.3.11"
  }
 },
 "nbformat": 4,
 "nbformat_minor": 0
}
