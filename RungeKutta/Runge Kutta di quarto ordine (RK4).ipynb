{
 "cells": [
  {
   "cell_type": "code",
   "execution_count": 1,
   "metadata": {
    "collapsed": false
   },
   "outputs": [
    {
     "name": "stderr",
     "output_type": "stream",
     "text": [
      "INFO: Loading help data...\n"
     ]
    }
   ],
   "source": [
    "using PyPlot"
   ]
  },
  {
   "cell_type": "code",
   "execution_count": 2,
   "metadata": {
    "collapsed": true
   },
   "outputs": [],
   "source": [
    "using PyPlot"
   ]
  },
  {
   "cell_type": "code",
   "execution_count": 3,
   "metadata": {
    "collapsed": false
   },
   "outputs": [
    {
     "data": {
      "text/plain": [
       "f (generic function with 1 method)"
      ]
     },
     "execution_count": 3,
     "metadata": {},
     "output_type": "execute_result"
    }
   ],
   "source": [
    "f(t, x) = -2t*x^2"
   ]
  },
  {
   "cell_type": "code",
   "execution_count": 6,
   "metadata": {
    "collapsed": false
   },
   "outputs": [
    {
     "data": {
      "text/plain": [
       "runge_kutta (generic function with 1 method)"
      ]
     },
     "execution_count": 6,
     "metadata": {},
     "output_type": "execute_result"
    }
   ],
   "source": [
    "#t0 = 0\n",
    "#x0 = 1\n",
    "#h = 0.25\n",
    "#N = 10\n",
    "\n",
    "function runge_kutta(t0, x0, h, N, f)\n",
    "    t_actual = t0\n",
    "    x_actual = x0\n",
    "    \n",
    "    ts = Float64[]\n",
    "    xs = Float64[]\n",
    "    \n",
    "    for i in 1:h:N\n",
    "        k1 = f(t_actual, x_actual)\n",
    "        k2 = f(t_actual + 0.5h, x_actual + 0.5h*k1)\n",
    "        k3 = f(t_actual + 0.5h, x_actual + 0.5h*k2)\n",
    "        k4 = f(t_actual + h, x_actual + h*k3)\n",
    "\n",
    "        t_nueva = t_actual + h\n",
    "        x_nueva = x_actual + (h/6)*(k1 + 2k2 + 2k3 + k4)\n",
    "        \n",
    "        t_actual = t_nueva\n",
    "        x_actual = x_nueva\n",
    "        \n",
    "        push!(ts, t_actual)\n",
    "        push!(xs, x_actual)\n",
    "    end\n",
    "    ts, xs\n",
    "    plot(ts, xs)   #questo plot solo è per funzioni nello spazio (x,y)\n",
    "end"
   ]
  },
  {
   "cell_type": "code",
   "execution_count": 7,
   "metadata": {
    "collapsed": false
   },
   "outputs": [
    {
     "data": {
      "image/png": "[encoded data removed]",
      "text/plain": [
       "Figure(PyObject <matplotlib.figure.Figure object at 0x7f50cc0fcc50>)"
      ]
     },
     "metadata": {},
     "output_type": "display_data"
    },
    {
     "data": {
      "text/plain": [
       "1-element Array{Any,1}:\n",
       " PyObject <matplotlib.lines.Line2D object at 0x7f50c3a1d810>"
      ]
     },
     "execution_count": 7,
     "metadata": {},
     "output_type": "execute_result"
    }
   ],
   "source": [
    "runge_kutta(0, 1, 0.125, 10, f)"
   ]
  },
  {
   "cell_type": "markdown",
   "metadata": {},
   "source": [
    "###Sistemi."
   ]
  },
  {
   "cell_type": "code",
   "execution_count": 22,
   "metadata": {
    "collapsed": false
   },
   "outputs": [
    {
     "data": {
      "text/plain": [
       "esempio2 (generic function with 1 method)"
      ]
     },
     "execution_count": 22,
     "metadata": {},
     "output_type": "execute_result"
    }
   ],
   "source": [
    "function esempio2(t, x0)\n",
    "    x = x0[1]\n",
    "    y = x0[2]\n",
    "    return [y, -x + (1 - x^2)*y]\n",
    "end"
   ]
  },
  {
   "cell_type": "code",
   "execution_count": 23,
   "metadata": {
    "collapsed": false
   },
   "outputs": [
    {
     "data": {
      "text/plain": [
       "runge_kutta_sistemas (generic function with 1 method)"
      ]
     },
     "execution_count": 23,
     "metadata": {},
     "output_type": "execute_result"
    }
   ],
   "source": [
    "t0 = 0\n",
    "x0 = [1, 1]\n",
    "h = 0.25\n",
    "N = 10\n",
    "\n",
    "function runge_kutta_sistemas(t0, x0, h, N, f)\n",
    "    \n",
    "    t_attuale = t0\n",
    "    x_attuale = x0\n",
    "    \n",
    "    ts = Float64[t_attuale]\n",
    "    xs = Vector{Float64}[[x_attuale]]\n",
    "    \n",
    "    for i in 1:h:N\n",
    "        \n",
    "        k1 = f(t_attuale, x_attuale)\n",
    "        k2 = f(t_attuale + 0.5h, x_attuale + 0.5h*k1)\n",
    "        k3 = f(t_attuale + 0.5h, x_attuale + 0.5h*k2)\n",
    "        k4 = f(t_attuale + h, x_attuale + h*k3)\n",
    "        \n",
    "        K = h*(k1 + 2k2 + 2k3 + k4)/6\n",
    "        \n",
    "        t_nuova = t_attuale + h\n",
    "        x_nuova = x_attuale + K\n",
    "        \n",
    "        t_attuale = t_nuova\n",
    "        x_attuale = x_nuova\n",
    "        \n",
    "        push!(ts, t_attuale)\n",
    "        push!(xs, x_attuale)\n",
    "    end\n",
    "    ts, hcat(xs...)'\n",
    "end"
   ]
  },
  {
   "cell_type": "code",
   "execution_count": 24,
   "metadata": {
    "collapsed": false
   },
   "outputs": [
    {
     "data": {
      "text/plain": [
       "([0.0,0.25,0.5,0.75,1.0,1.25,1.5,1.75,2.0,2.25  …  7.0,7.25,7.5,7.75,8.0,8.25,8.5,8.75,9.0,9.25],\n",
       "38x2 Array{Float64,2}:\n",
       "  1.0          1.0      \n",
       "  1.21189      0.673603 \n",
       "  1.33118      0.279884 \n",
       "  1.35521     -0.0770276\n",
       "  1.29844     -0.366978 \n",
       "  1.1755      -0.612134 \n",
       "  0.992832    -0.851857 \n",
       "  0.746422    -1.12951  \n",
       "  0.421224    -1.48878  \n",
       " -0.00653535  -1.94569  \n",
       " -0.549849    -2.36627  \n",
       " -1.14877     -2.30374  \n",
       " -1.63363     -1.48695  \n",
       "  ⋮                     \n",
       "  1.96157      0.507085 \n",
       "  2.00192     -0.107752 \n",
       "  1.93322     -0.403441 \n",
       "  1.81049     -0.564745 \n",
       "  1.65395     -0.684933 \n",
       "  1.46773     -0.807786 \n",
       "  1.24751     -0.961425 \n",
       "  0.982056    -1.17524  \n",
       "  0.651688    -1.48797  \n",
       "  0.226525    -1.93672  \n",
       " -0.324308    -2.46259  \n",
       " -0.978078    -2.65519  )"
      ]
     },
     "execution_count": 24,
     "metadata": {},
     "output_type": "execute_result"
    }
   ],
   "source": [
    "runge_kutta_sistemas(t0, x0, h, N, esempio2)"
   ]
  },
  {
   "cell_type": "markdown",
   "metadata": {
    "collapsed": true
   },
   "source": [
    "[Lentos](http://vk.com/video-10568504_128657235)"
   ]
  },
  {
   "cell_type": "markdown",
   "metadata": {
    "collapsed": true
   },
   "source": [
    "mi spiace, sto' festeggiando perche o' programma è andato bene (credo) :-)"
   ]
  },
  {
   "cell_type": "markdown",
   "metadata": {},
   "source": [
    "se volete avere un disegno dello spazio delle fasi (in `2D`) potete cambiare il codigo accussi:"
   ]
  },
  {
   "cell_type": "code",
   "execution_count": 27,
   "metadata": {
    "collapsed": false
   },
   "outputs": [
    {
     "data": {
      "text/plain": [
       "runge_kutta_sistemas (generic function with 1 method)"
      ]
     },
     "execution_count": 27,
     "metadata": {},
     "output_type": "execute_result"
    }
   ],
   "source": [
    "function runge_kutta_sistemas(t0, x0, h, N, f)\n",
    "    \n",
    "    t_attuale = t0\n",
    "    x_attuale = x0\n",
    "    \n",
    "    ts = Float64[t_attuale]\n",
    "    xs = Vector{Float64}[[x_attuale]]\n",
    "    \n",
    "    for i in 1:h:N\n",
    "        \n",
    "        k1 = f(t_attuale, x_attuale)\n",
    "        k2 = f(t_attuale + 0.5h, x_attuale + 0.5h*k1)\n",
    "        k3 = f(t_attuale + 0.5h, x_attuale + 0.5h*k2)\n",
    "        k4 = f(t_attuale + h, x_attuale + h*k3)\n",
    "        \n",
    "        K = h*(k1 + 2k2 + 2k3 + k4)/6\n",
    "        \n",
    "        t_nuova = t_attuale + h\n",
    "        x_nuova = x_attuale + K\n",
    "        \n",
    "        t_attuale = t_nuova\n",
    "        x_attuale = x_nuova\n",
    "        \n",
    "        push!(ts, t_attuale)\n",
    "        push!(xs, x_attuale)\n",
    "    end\n",
    "    nuovi_xs = hcat(xs...)'\n",
    "    X = nuovi_xs[:, 1]\n",
    "    Y = nuovi_xs[:, 2]\n",
    "    \n",
    "    plot(X,Y)\n",
    "    title(\"Spazio delle fasi.\")\n",
    "    xlabel(L\"y(t)\")\n",
    "    ylabel(L\"x(t)\")\n",
    "end"
   ]
  },
  {
   "cell_type": "code",
   "execution_count": 28,
   "metadata": {
    "collapsed": false
   },
   "outputs": [
    {
     "data": {
      "image/png": "[encoded data removed]",
      "text/plain": [
       "Figure(PyObject <matplotlib.figure.Figure object at 0x7f50c3964dd0>)"
      ]
     },
     "metadata": {},
     "output_type": "display_data"
    },
    {
     "data": {
      "text/plain": [
       "PyObject <matplotlib.text.Text object at 0x7f50bf4fd0d0>"
      ]
     },
     "execution_count": 28,
     "metadata": {},
     "output_type": "execute_result"
    }
   ],
   "source": [
    "runge_kutta_sistemas(t0, x0, h, N, esempio2)"
   ]
  },
  {
   "cell_type": "markdown",
   "metadata": {},
   "source": [
    "Vi ho detto che la equazione usata nell'esempio 2 si chiama \"Equazione di Van der Pol\" per Balthasar Van der Pol."
   ]
  },
  {
   "cell_type": "code",
   "execution_count": null,
   "metadata": {
    "collapsed": true
   },
   "outputs": [],
   "source": []
  }
 ],
 "metadata": {
  "kernelspec": {
   "display_name": "Julia 0.3.11",
   "language": "julia",
   "name": "julia-0.3"
  },
  "language_info": {
   "file_extension": ".jl",
   "mimetype": "application/julia",
   "name": "julia",
   "version": "0.3.11"
  }
 },
 "nbformat": 4,
 "nbformat_minor": 0
}
